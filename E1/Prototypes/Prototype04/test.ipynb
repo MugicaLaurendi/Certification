{
 "cells": [
  {
   "cell_type": "code",
   "execution_count": 47,
   "metadata": {},
   "outputs": [],
   "source": [
    "import numpy as np\n",
    "import pandas as pd\n",
    "import cv2, os, re\n",
    "import matplotlib.pyplot as plt\n",
    "import imutils\n",
    "\n",
    "from tqdm import tqdm\n",
    "from imutils.object_detection import non_max_suppression\n",
    "\n",
    "from tensorflow.keras.models import load_model"
   ]
  },
  {
   "cell_type": "code",
   "execution_count": 2,
   "metadata": {},
   "outputs": [
    {
     "name": "stderr",
     "output_type": "stream",
     "text": [
      "2024-03-12 14:54:39.492207: W tensorflow/stream_executor/platform/default/dso_loader.cc:64] Could not load dynamic library 'libcuda.so.1'; dlerror: libcuda.so.1: cannot open shared object file: No such file or directory; LD_LIBRARY_PATH: /root/.pyenv/versions/3.8.12/envs/simplon/lib/python3.8/site-packages/cv2/../../lib64:\n",
      "2024-03-12 14:54:39.492264: W tensorflow/stream_executor/cuda/cuda_driver.cc:269] failed call to cuInit: UNKNOWN ERROR (303)\n",
      "2024-03-12 14:54:39.492293: I tensorflow/stream_executor/cuda/cuda_diagnostics.cc:156] kernel driver does not appear to be running on this host (UTILISA-O4KTAUM): /proc/driver/nvidia/version does not exist\n",
      "2024-03-12 14:54:39.492720: I tensorflow/core/platform/cpu_feature_guard.cc:151] This TensorFlow binary is optimized with oneAPI Deep Neural Network Library (oneDNN) to use the following CPU instructions in performance-critical operations:  AVX2 FMA\n",
      "To enable them in other operations, rebuild TensorFlow with the appropriate compiler flags.\n"
     ]
    }
   ],
   "source": [
    "model = load_model('ship-model.h5')"
   ]
  },
  {
   "cell_type": "code",
   "execution_count": 3,
   "metadata": {},
   "outputs": [],
   "source": [
    "scene_path = '../../data_copy/data_test'\n",
    "\n",
    "def load_scenes():\n",
    "\n",
    "    scenes = []\n",
    "    dirfiles = os.listdir(scene_path)\n",
    "    dirfiles = sorted(dirfiles)\n",
    "    for file in dirfiles:\n",
    "\n",
    "        print(os.path.join(scene_path, file))\n",
    "        scene = cv2.imread(os.path.join(scene_path, file))\n",
    "        scene = cv2.cvtColor(scene, cv2.COLOR_BGR2RGB)\n",
    "        scenes.append(scene)\n",
    "        pass\n",
    "\n",
    "    return scenes\n",
    "    pass"
   ]
  },
  {
   "cell_type": "code",
   "execution_count": 4,
   "metadata": {},
   "outputs": [
    {
     "name": "stdout",
     "output_type": "stream",
     "text": [
      "../../data_copy/data_test/berlin.PNG\n",
      "../../data_copy/data_test/madrid.PNG\n",
      "../../data_copy/data_test/ny.PNG\n",
      "../../data_copy/data_test/paris.PNG\n",
      "../../data_copy/data_test/scene_1.png\n",
      "../../data_copy/data_test/scene_2.png\n",
      "../../data_copy/data_test/scene_3.png\n",
      "../../data_copy/data_test/scene_4.png\n"
     ]
    }
   ],
   "source": [
    "scenes = load_scenes()"
   ]
  },
  {
   "cell_type": "code",
   "execution_count": 5,
   "metadata": {},
   "outputs": [
    {
     "name": "stdout",
     "output_type": "stream",
     "text": [
      "<class 'tuple'>\n"
     ]
    }
   ],
   "source": [
    "bob = list(enumerate(scenes))[7]\n",
    "print(type(bob))\n",
    "i, scene = bob"
   ]
  },
  {
   "cell_type": "code",
   "execution_count": 7,
   "metadata": {},
   "outputs": [
    {
     "data": {
      "text/plain": [
       "(781, 835, 3)"
      ]
     },
     "execution_count": 7,
     "metadata": {},
     "output_type": "execute_result"
    }
   ],
   "source": [
    "scene.shape"
   ]
  },
  {
   "cell_type": "code",
   "execution_count": 8,
   "metadata": {},
   "outputs": [
    {
     "name": "stderr",
     "output_type": "stream",
     "text": [
      "100%|██████████| 8000/8000 [00:03<00:00, 2291.93it/s]\n",
      "100%|██████████| 24000/24000 [00:09<00:00, 2506.74it/s]\n"
     ]
    },
    {
     "data": {
      "text/plain": [
       "((32000, 20, 20, 3), (32000,))"
      ]
     },
     "execution_count": 8,
     "metadata": {},
     "output_type": "execute_result"
    }
   ],
   "source": [
    "datasets = ['../../data_copy/data_train']\n",
    "\n",
    "class_names = [\"no-plane\",\"plane\"]\n",
    "\n",
    "class_name_labels = {class_name:i for i,class_name in enumerate(class_names)}\n",
    "\n",
    "num_classes = len(class_names)\n",
    "class_name_labels\n",
    "\n",
    "def load_data():\n",
    "    images, labels = [], []\n",
    "\n",
    "    for dataset in datasets:\n",
    "\n",
    "        for folder in os.listdir(dataset):\n",
    "\n",
    "            label = class_name_labels[folder]\n",
    "\n",
    "            for file in tqdm(os.listdir(os.path.join(dataset,folder))):\n",
    "\n",
    "                img_path = os.path.join(dataset,folder,file)\n",
    "\n",
    "                img = cv2.imread(img_path)\n",
    "                img = cv2.cvtColor(img,cv2.COLOR_BGR2RGB)\n",
    "                #img = cv2.resize(img, (48,48))\n",
    "\n",
    "                images.append(img)\n",
    "                labels.append(label)\n",
    "                pass\n",
    "            pass\n",
    "\n",
    "        images = np.array(images,dtype=np.float32)/255.0\n",
    "        labels = np.array(labels,dtype=np.float32)\n",
    "        pass\n",
    "\n",
    "    return (images, labels)\n",
    "    pass\n",
    "\n",
    "(images, labels) = load_data()\n",
    "images.shape, labels.shape"
   ]
  },
  {
   "cell_type": "code",
   "execution_count": 9,
   "metadata": {},
   "outputs": [
    {
     "data": {
      "text/plain": [
       "numpy.ndarray"
      ]
     },
     "execution_count": 9,
     "metadata": {},
     "output_type": "execute_result"
    }
   ],
   "source": [
    "type(images)"
   ]
  },
  {
   "cell_type": "code",
   "execution_count": 13,
   "metadata": {},
   "outputs": [],
   "source": [
    "image_test = images[0]"
   ]
  },
  {
   "cell_type": "code",
   "execution_count": 33,
   "metadata": {},
   "outputs": [
    {
     "data": {
      "text/plain": [
       "1.0"
      ]
     },
     "execution_count": 33,
     "metadata": {},
     "output_type": "execute_result"
    }
   ],
   "source": [
    "bob = labels[0]\n",
    "bob"
   ]
  },
  {
   "cell_type": "code",
   "execution_count": 34,
   "metadata": {},
   "outputs": [],
   "source": [
    "image_testneg = images[31999]"
   ]
  },
  {
   "cell_type": "code",
   "execution_count": 35,
   "metadata": {},
   "outputs": [
    {
     "data": {
      "text/plain": [
       "0.0"
      ]
     },
     "execution_count": 35,
     "metadata": {},
     "output_type": "execute_result"
    }
   ],
   "source": [
    "bob = labels[31999]\n",
    "bob"
   ]
  },
  {
   "cell_type": "code",
   "execution_count": 21,
   "metadata": {},
   "outputs": [
    {
     "data": {
      "text/plain": [
       "(20, 20, 3)"
      ]
     },
     "execution_count": 21,
     "metadata": {},
     "output_type": "execute_result"
    }
   ],
   "source": [
    "image_test.shape"
   ]
  },
  {
   "cell_type": "code",
   "execution_count": 53,
   "metadata": {},
   "outputs": [
    {
     "data": {
      "text/plain": [
       "array([[[0.8627451 , 0.8117647 , 0.7529412 ],\n",
       "        [0.8509804 , 0.8       , 0.7411765 ],\n",
       "        [0.8666667 , 0.81960785, 0.75686276],\n",
       "        ...,\n",
       "        [0.8980392 , 0.8352941 , 0.76862746],\n",
       "        [0.81960785, 0.7647059 , 0.69803923],\n",
       "        [0.7411765 , 0.7019608 , 0.6313726 ]],\n",
       "\n",
       "       [[0.8745098 , 0.8235294 , 0.7607843 ],\n",
       "        [0.8509804 , 0.8039216 , 0.7372549 ],\n",
       "        [0.8627451 , 0.81960785, 0.7607843 ],\n",
       "        ...,\n",
       "        [0.93333334, 0.87058824, 0.8039216 ],\n",
       "        [0.8509804 , 0.7921569 , 0.7294118 ],\n",
       "        [0.7882353 , 0.7411765 , 0.6745098 ]],\n",
       "\n",
       "       [[0.87058824, 0.8156863 , 0.7529412 ],\n",
       "        [0.8627451 , 0.8117647 , 0.7490196 ],\n",
       "        [0.85490197, 0.8156863 , 0.75686276],\n",
       "        ...,\n",
       "        [0.91764706, 0.85882354, 0.7882353 ],\n",
       "        [0.87058824, 0.80784315, 0.7372549 ],\n",
       "        [0.83137256, 0.7764706 , 0.7137255 ]],\n",
       "\n",
       "       ...,\n",
       "\n",
       "       [[0.8745098 , 0.8156863 , 0.7529412 ],\n",
       "        [0.88235295, 0.83137256, 0.7647059 ],\n",
       "        [0.90588236, 0.85490197, 0.79607844],\n",
       "        ...,\n",
       "        [0.8666667 , 0.8235294 , 0.7764706 ],\n",
       "        [0.88235295, 0.83137256, 0.78039217],\n",
       "        [0.8352941 , 0.78039217, 0.69803923]],\n",
       "\n",
       "       [[0.8235294 , 0.77254903, 0.70980394],\n",
       "        [0.8666667 , 0.8117647 , 0.74509805],\n",
       "        [0.8862745 , 0.8352941 , 0.7764706 ],\n",
       "        ...,\n",
       "        [0.84705883, 0.8039216 , 0.7490196 ],\n",
       "        [0.87058824, 0.81960785, 0.7529412 ],\n",
       "        [0.84705883, 0.8       , 0.7019608 ]],\n",
       "\n",
       "       [[0.7921569 , 0.74509805, 0.6901961 ],\n",
       "        [0.83137256, 0.78039217, 0.7254902 ],\n",
       "        [0.8509804 , 0.8039216 , 0.7529412 ],\n",
       "        ...,\n",
       "        [0.8117647 , 0.7764706 , 0.72156864],\n",
       "        [0.8509804 , 0.8       , 0.7529412 ],\n",
       "        [0.8862745 , 0.83137256, 0.76862746]]], dtype=float32)"
      ]
     },
     "execution_count": 53,
     "metadata": {},
     "output_type": "execute_result"
    }
   ],
   "source": [
    "image_test"
   ]
  },
  {
   "cell_type": "code",
   "execution_count": 51,
   "metadata": {},
   "outputs": [
    {
     "data": {
      "text/plain": [
       "numpy.float32"
      ]
     },
     "execution_count": 51,
     "metadata": {},
     "output_type": "execute_result"
    }
   ],
   "source": [
    "type(image_test[0][0][0])"
   ]
  },
  {
   "cell_type": "code",
   "execution_count": 52,
   "metadata": {},
   "outputs": [
    {
     "data": {
      "text/plain": [
       "0.8627451"
      ]
     },
     "execution_count": 52,
     "metadata": {},
     "output_type": "execute_result"
    }
   ],
   "source": [
    "image_test[0][0][0]"
   ]
  },
  {
   "cell_type": "markdown",
   "metadata": {},
   "source": []
  },
  {
   "cell_type": "code",
   "execution_count": 25,
   "metadata": {},
   "outputs": [],
   "source": [
    "image_test_2 = np.array([image_test])"
   ]
  },
  {
   "cell_type": "code",
   "execution_count": 26,
   "metadata": {},
   "outputs": [
    {
     "data": {
      "text/plain": [
       "(1, 20, 20, 3)"
      ]
     },
     "execution_count": 26,
     "metadata": {},
     "output_type": "execute_result"
    }
   ],
   "source": [
    "image_test_2.shape"
   ]
  },
  {
   "cell_type": "code",
   "execution_count": 36,
   "metadata": {},
   "outputs": [],
   "source": [
    "image_testneg_2 = np.array([image_testneg])"
   ]
  },
  {
   "cell_type": "markdown",
   "metadata": {},
   "source": []
  },
  {
   "cell_type": "code",
   "execution_count": 17,
   "metadata": {},
   "outputs": [
    {
     "data": {
      "text/plain": [
       "array([1., 1., 1., ..., 0., 0., 0.], dtype=float32)"
      ]
     },
     "execution_count": 17,
     "metadata": {},
     "output_type": "execute_result"
    }
   ],
   "source": [
    "labels"
   ]
  },
  {
   "cell_type": "code",
   "execution_count": 27,
   "metadata": {},
   "outputs": [],
   "source": [
    "pred = model.predict(np.array(image_test_2,dtype=np.float32))"
   ]
  },
  {
   "cell_type": "code",
   "execution_count": 37,
   "metadata": {},
   "outputs": [],
   "source": [
    "predneg = model.predict(np.array(image_testneg_2,dtype=np.float32))"
   ]
  },
  {
   "cell_type": "code",
   "execution_count": 29,
   "metadata": {},
   "outputs": [
    {
     "data": {
      "text/plain": [
       "(1, 2)"
      ]
     },
     "execution_count": 29,
     "metadata": {},
     "output_type": "execute_result"
    }
   ],
   "source": [
    "pred.shape"
   ]
  },
  {
   "cell_type": "code",
   "execution_count": 31,
   "metadata": {},
   "outputs": [
    {
     "data": {
      "text/plain": [
       "array([[4.908544e-06, 9.999951e-01]], dtype=float32)"
      ]
     },
     "execution_count": 31,
     "metadata": {},
     "output_type": "execute_result"
    }
   ],
   "source": [
    "pred"
   ]
  },
  {
   "cell_type": "code",
   "execution_count": 39,
   "metadata": {},
   "outputs": [
    {
     "data": {
      "text/plain": [
       "array([[9.999951e-01, 4.892784e-06]], dtype=float32)"
      ]
     },
     "execution_count": 39,
     "metadata": {},
     "output_type": "execute_result"
    }
   ],
   "source": [
    "predneg"
   ]
  },
  {
   "cell_type": "code",
   "execution_count": 45,
   "metadata": {},
   "outputs": [
    {
     "data": {
      "text/plain": [
       "(20, 20, 3)"
      ]
     },
     "execution_count": 45,
     "metadata": {},
     "output_type": "execute_result"
    }
   ],
   "source": [
    "image_test.shape"
   ]
  },
  {
   "cell_type": "code",
   "execution_count": 46,
   "metadata": {},
   "outputs": [
    {
     "data": {
      "text/plain": [
       "<matplotlib.image.AxesImage at 0x7fe5bdfa3250>"
      ]
     },
     "execution_count": 46,
     "metadata": {},
     "output_type": "execute_result"
    },
    {
     "data": {
      "image/png": "[encoded data removed]",
      "text/plain": [
       "<Figure size 432x288 with 1 Axes>"
      ]
     },
     "metadata": {
      "needs_background": "light"
     },
     "output_type": "display_data"
    }
   ],
   "source": [
    "plt.imshow(image_test)"
   ]
  },
  {
   "cell_type": "code",
   "execution_count": 48,
   "metadata": {},
   "outputs": [
    {
     "data": {
      "text/plain": [
       "<matplotlib.image.AxesImage at 0x7fe5bca8ee80>"
      ]
     },
     "execution_count": 48,
     "metadata": {},
     "output_type": "execute_result"
    },
    {
     "data": {
      "image/png": "[encoded data removed]",
      "text/plain": [
       "<Figure size 432x288 with 1 Axes>"
      ]
     },
     "metadata": {
      "needs_background": "light"
     },
     "output_type": "display_data"
    }
   ],
   "source": [
    "plt.imshow(image_testneg)"
   ]
  },
  {
   "cell_type": "code",
   "execution_count": 54,
   "metadata": {},
   "outputs": [
    {
     "data": {
      "text/plain": [
       "array([ 2,  4,  6,  8, 10])"
      ]
     },
     "execution_count": 54,
     "metadata": {},
     "output_type": "execute_result"
    }
   ],
   "source": [
    "x = np.array([1, 2, 3, 4, 5])\n",
    "def f(y):\n",
    "    return y*2\n",
    "# Obtain array of square of each element in x\n",
    "\n",
    "z = np.array(list(map(f,x)))\n",
    "z"
   ]
  }
 ],
 "metadata": {
  "kernelspec": {
   "display_name": "Python 3",
   "language": "python",
   "name": "python3"
  },
  "language_info": {
   "codemirror_mode": {
    "name": "ipython",
    "version": 3
   },
   "file_extension": ".py",
   "mimetype": "text/x-python",
   "name": "python",
   "nbconvert_exporter": "python",
   "pygments_lexer": "ipython3",
   "version": "3.8.12"
  }
 },
 "nbformat": 4,
 "nbformat_minor": 2
}
