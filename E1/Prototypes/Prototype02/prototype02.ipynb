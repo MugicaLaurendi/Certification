{
 "cells": [
  {
   "cell_type": "code",
   "execution_count": 3,
   "metadata": {},
   "outputs": [],
   "source": [
    "# Python 3.8.12"
   ]
  },
  {
   "cell_type": "code",
   "execution_count": 14,
   "metadata": {},
   "outputs": [],
   "source": [
    "import tensorflow as tf\n",
    "import numpy as np\n",
    "import keras\n",
    "from keras import layers\n",
    "import os, random\n",
    "\n",
    "from PIL.Image import *"
   ]
  },
  {
   "cell_type": "code",
   "execution_count": 10,
   "metadata": {},
   "outputs": [],
   "source": [
    "bob = open(\"../../data/data_train/1__20160808_000532_1_0c79__-122.3782948_37.6276517358.png\")"
   ]
  },
  {
   "cell_type": "code",
   "execution_count": 11,
   "metadata": {},
   "outputs": [],
   "source": [
    "Image.show(bob)"
   ]
  },
  {
   "cell_type": "code",
   "execution_count": 13,
   "metadata": {},
   "outputs": [
    {
     "data": {
      "text/plain": [
       "(20, 20)"
      ]
     },
     "execution_count": 13,
     "metadata": {},
     "output_type": "execute_result"
    }
   ],
   "source": [
    "bob.size"
   ]
  },
  {
   "cell_type": "code",
   "execution_count": 5,
   "metadata": {},
   "outputs": [],
   "source": [
    "CLASSES = 2\n",
    "\n",
    "def build_classifier(inputs):\n",
    "\n",
    "    x = tf.keras.layers.Conv2D(16, kernel_size=3, activation='relu', input_shape=(input_size, input_size, 1))(inputs)\n",
    "    x = tf.keras.layers.AveragePooling2D(2,2)(x)\n",
    "\n",
    "    x = tf.keras.layers.Conv2D(32, kernel_size=3, activation = 'relu')(x)\n",
    "    x = tf.keras.layers.AveragePooling2D(2,2)(x)\n",
    "\n",
    "    x = tf.keras.layers.Conv2D(64, kernel_size=3, activation = 'relu')(x)\n",
    "    x = tf.keras.layers.AveragePooling2D(2,2)(x)\n",
    "\n",
    "    x = tf.keras.layers.Flatten()(inputs)\n",
    "    x = tf.keras.layers.Dense(64, activation='relu')(x)\n",
    "\n",
    "    x = tf.keras.layers.Dense(CLASSES, activation='softmax')(x)\n",
    "\n",
    "    return x"
   ]
  },
  {
   "cell_type": "code",
   "execution_count": 15,
   "metadata": {},
   "outputs": [],
   "source": [
    "def build_regressor(inputs):\n",
    "\n",
    "    x = tf.keras.layers.Conv2D(16, kernel_size=3, activation='relu', input_shape=(input_size, input_size, 1))(inputs)\n",
    "    x = tf.keras.layers.AveragePooling2D(2,2)(x)\n",
    "\n",
    "    x = tf.keras.layers.Conv2D(32, kernel_size=3, activation = 'relu')(x)\n",
    "    x = tf.keras.layers.AveragePooling2D(2,2)(x)\n",
    "\n",
    "    x = tf.keras.layers.Conv2D(64, kernel_size=3, activation = 'relu')(x)\n",
    "    x = tf.keras.layers.AveragePooling2D(2,2)(x)\n",
    "\n",
    "    x = tf.keras.layers.Flatten()(inputs)\n",
    "    x = tf.keras.layers.Dense(64, activation='relu')(x)\n",
    "\n",
    "    x = tf.keras.layers.Dense(units = '4')(inputs)(x)\n",
    "\n",
    "    return x"
   ]
  },
  {
   "cell_type": "code",
   "execution_count": 8,
   "metadata": {},
   "outputs": [],
   "source": [
    "def build_feature_extractor(inputs):\n",
    "\n",
    "    x = tf.keras.layers.Conv2D(16, kernel_size=3, activation='relu', input_shape=(input_size, input_size, 1))(inputs)\n",
    "    x = tf.keras.layers.AveragePooling2D(2,2)(x)\n",
    "\n",
    "    x = tf.keras.layers.Conv2D(32, kernel_size=3, activation = 'relu')(x)\n",
    "    x = tf.keras.layers.AveragePooling2D(2,2)(x)\n",
    "\n",
    "    x = tf.keras.layers.Conv2D(64, kernel_size=3, activation = 'relu')(x)\n",
    "    x = tf.keras.layers.AveragePooling2D(2,2)(x)\n",
    "\n",
    "    return x\n",
    "\n",
    "def build_model_adaptor(inputs):\n",
    "    x = tf.keras.layers.Flatten()(inputs)\n",
    "    x = tf.keras.layers.Dense(64, activation='relu')(x)\n",
    "    return x\n",
    "\n",
    "def build_classifier_head(inputs):\n",
    "    return tf.keras.layers.Dense(CLASSES, activation='softmax', name = 'classifier_head')(inputs)\n",
    "\n",
    "def build_regressor_head(inputs):\n",
    "    return tf.keras.layers.Dense(units = '4', name = 'regressor_head')(inputs)\n",
    "\n",
    "def build_model(inputs):\n",
    "\n",
    "    feature_extractor = build_feature_extractor(inputs)\n",
    "\n",
    "    model_adaptor = build_model_adaptor(feature_extractor)\n",
    "\n",
    "    classification_head = build_classifier_head(model_adaptor)\n",
    "\n",
    "    regressor_head = build_regressor_head(model_adaptor)\n",
    "\n",
    "    model = tf.keras.Model(inputs = inputs, outputs = [classification_head, regressor_head])\n",
    "\n",
    "    return model"
   ]
  },
  {
   "cell_type": "code",
   "execution_count": null,
   "metadata": {},
   "outputs": [],
   "source": []
  }
 ],
 "metadata": {
  "kernelspec": {
   "display_name": "Python 3",
   "language": "python",
   "name": "python3"
  },
  "language_info": {
   "codemirror_mode": {
    "name": "ipython",
    "version": 3
   },
   "file_extension": ".py",
   "mimetype": "text/x-python",
   "name": "python",
   "nbconvert_exporter": "python",
   "pygments_lexer": "ipython3",
   "version": "3.8.12"
  }
 },
 "nbformat": 4,
 "nbformat_minor": 2
}
