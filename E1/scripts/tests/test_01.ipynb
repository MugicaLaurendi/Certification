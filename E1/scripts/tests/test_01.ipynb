{
 "cells": [
  {
   "cell_type": "code",
   "execution_count": 2,
   "metadata": {},
   "outputs": [
    {
     "name": "stdout",
     "output_type": "stream",
     "text": [
      "Requirement already satisfied: tensorflow in /root/.pyenv/versions/3.8.12/envs/simplon/lib/python3.8/site-packages (2.7.0)\n",
      "Requirement already satisfied: six>=1.12.0 in /root/.pyenv/versions/3.8.12/envs/simplon/lib/python3.8/site-packages (from tensorflow) (1.16.0)\n",
      "Requirement already satisfied: termcolor>=1.1.0 in /root/.pyenv/versions/3.8.12/envs/simplon/lib/python3.8/site-packages (from tensorflow) (1.1.0)\n",
      "Requirement already satisfied: flatbuffers<3.0,>=1.12 in /root/.pyenv/versions/3.8.12/envs/simplon/lib/python3.8/site-packages (from tensorflow) (2.0)\n",
      "Requirement already satisfied: numpy>=1.14.5 in /root/.pyenv/versions/3.8.12/envs/simplon/lib/python3.8/site-packages (from tensorflow) (1.19.5)\n",
      "Requirement already satisfied: wheel<1.0,>=0.32.0 in /root/.pyenv/versions/3.8.12/envs/simplon/lib/python3.8/site-packages (from tensorflow) (0.37.1)\n",
      "Requirement already satisfied: astunparse>=1.6.0 in /root/.pyenv/versions/3.8.12/envs/simplon/lib/python3.8/site-packages (from tensorflow) (1.6.3)\n",
      "Requirement already satisfied: tensorboard~=2.6 in /root/.pyenv/versions/3.8.12/envs/simplon/lib/python3.8/site-packages (from tensorflow) (2.7.0)\n",
      "Requirement already satisfied: absl-py>=0.4.0 in /root/.pyenv/versions/3.8.12/envs/simplon/lib/python3.8/site-packages (from tensorflow) (0.12.0)\n",
      "Requirement already satisfied: opt-einsum>=2.3.2 in /root/.pyenv/versions/3.8.12/envs/simplon/lib/python3.8/site-packages (from tensorflow) (3.3.0)\n",
      "Requirement already satisfied: keras-preprocessing>=1.1.1 in /root/.pyenv/versions/3.8.12/envs/simplon/lib/python3.8/site-packages (from tensorflow) (1.1.2)\n",
      "Requirement already satisfied: grpcio<2.0,>=1.24.3 in /root/.pyenv/versions/3.8.12/envs/simplon/lib/python3.8/site-packages (from tensorflow) (1.43.0)\n",
      "Requirement already satisfied: typing-extensions>=3.6.6 in /root/.pyenv/versions/3.8.12/envs/simplon/lib/python3.8/site-packages (from tensorflow) (4.0.1)\n",
      "Requirement already satisfied: tensorflow-io-gcs-filesystem>=0.21.0 in /root/.pyenv/versions/3.8.12/envs/simplon/lib/python3.8/site-packages (from tensorflow) (0.23.1)\n",
      "Requirement already satisfied: gast<0.5.0,>=0.2.1 in /root/.pyenv/versions/3.8.12/envs/simplon/lib/python3.8/site-packages (from tensorflow) (0.4.0)\n",
      "Requirement already satisfied: wrapt>=1.11.0 in /root/.pyenv/versions/3.8.12/envs/simplon/lib/python3.8/site-packages (from tensorflow) (1.12.1)\n",
      "Requirement already satisfied: h5py>=2.9.0 in /root/.pyenv/versions/3.8.12/envs/simplon/lib/python3.8/site-packages (from tensorflow) (3.6.0)\n",
      "Requirement already satisfied: protobuf>=3.9.2 in /root/.pyenv/versions/3.8.12/envs/simplon/lib/python3.8/site-packages (from tensorflow) (3.19.1)\n",
      "Requirement already satisfied: keras<2.8,>=2.7.0rc0 in /root/.pyenv/versions/3.8.12/envs/simplon/lib/python3.8/site-packages (from tensorflow) (2.7.0)\n",
      "Requirement already satisfied: libclang>=9.0.1 in /root/.pyenv/versions/3.8.12/envs/simplon/lib/python3.8/site-packages (from tensorflow) (12.0.0)\n",
      "Requirement already satisfied: google-pasta>=0.1.1 in /root/.pyenv/versions/3.8.12/envs/simplon/lib/python3.8/site-packages (from tensorflow) (0.2.0)\n",
      "Requirement already satisfied: tensorflow-estimator<2.8,~=2.7.0rc0 in /root/.pyenv/versions/3.8.12/envs/simplon/lib/python3.8/site-packages (from tensorflow) (2.7.0)\n",
      "Requirement already satisfied: markdown>=2.6.8 in /root/.pyenv/versions/3.8.12/envs/simplon/lib/python3.8/site-packages (from tensorboard~=2.6->tensorflow) (3.3.6)\n",
      "Requirement already satisfied: google-auth-oauthlib<0.5,>=0.4.1 in /root/.pyenv/versions/3.8.12/envs/simplon/lib/python3.8/site-packages (from tensorboard~=2.6->tensorflow) (0.4.6)\n",
      "Requirement already satisfied: requests<3,>=2.21.0 in /root/.pyenv/versions/3.8.12/envs/simplon/lib/python3.8/site-packages (from tensorboard~=2.6->tensorflow) (2.27.1)\n",
      "Requirement already satisfied: tensorboard-plugin-wit>=1.6.0 in /root/.pyenv/versions/3.8.12/envs/simplon/lib/python3.8/site-packages (from tensorboard~=2.6->tensorflow) (1.8.1)\n",
      "Requirement already satisfied: google-auth<3,>=1.6.3 in /root/.pyenv/versions/3.8.12/envs/simplon/lib/python3.8/site-packages (from tensorboard~=2.6->tensorflow) (2.3.3)\n",
      "Requirement already satisfied: setuptools>=41.0.0 in /root/.pyenv/versions/3.8.12/envs/simplon/lib/python3.8/site-packages (from tensorboard~=2.6->tensorflow) (56.0.0)\n",
      "Requirement already satisfied: werkzeug>=0.11.15 in /root/.pyenv/versions/3.8.12/envs/simplon/lib/python3.8/site-packages (from tensorboard~=2.6->tensorflow) (2.0.2)\n",
      "Requirement already satisfied: tensorboard-data-server<0.7.0,>=0.6.0 in /root/.pyenv/versions/3.8.12/envs/simplon/lib/python3.8/site-packages (from tensorboard~=2.6->tensorflow) (0.6.1)\n",
      "Requirement already satisfied: rsa<5,>=3.1.4 in /root/.pyenv/versions/3.8.12/envs/simplon/lib/python3.8/site-packages (from google-auth<3,>=1.6.3->tensorboard~=2.6->tensorflow) (4.8)\n",
      "Requirement already satisfied: cachetools<5.0,>=2.0.0 in /root/.pyenv/versions/3.8.12/envs/simplon/lib/python3.8/site-packages (from google-auth<3,>=1.6.3->tensorboard~=2.6->tensorflow) (4.2.4)\n",
      "Requirement already satisfied: pyasn1-modules>=0.2.1 in /root/.pyenv/versions/3.8.12/envs/simplon/lib/python3.8/site-packages (from google-auth<3,>=1.6.3->tensorboard~=2.6->tensorflow) (0.2.8)\n",
      "Requirement already satisfied: requests-oauthlib>=0.7.0 in /root/.pyenv/versions/3.8.12/envs/simplon/lib/python3.8/site-packages (from google-auth-oauthlib<0.5,>=0.4.1->tensorboard~=2.6->tensorflow) (1.3.0)\n",
      "Requirement already satisfied: importlib-metadata>=4.4 in /root/.pyenv/versions/3.8.12/envs/simplon/lib/python3.8/site-packages (from markdown>=2.6.8->tensorboard~=2.6->tensorflow) (4.10.0)\n",
      "Requirement already satisfied: charset-normalizer~=2.0.0 in /root/.pyenv/versions/3.8.12/envs/simplon/lib/python3.8/site-packages (from requests<3,>=2.21.0->tensorboard~=2.6->tensorflow) (2.0.10)\n",
      "Requirement already satisfied: idna<4,>=2.5 in /root/.pyenv/versions/3.8.12/envs/simplon/lib/python3.8/site-packages (from requests<3,>=2.21.0->tensorboard~=2.6->tensorflow) (3.3)\n",
      "Requirement already satisfied: urllib3<1.27,>=1.21.1 in /root/.pyenv/versions/3.8.12/envs/simplon/lib/python3.8/site-packages (from requests<3,>=2.21.0->tensorboard~=2.6->tensorflow) (1.26.7)\n",
      "Requirement already satisfied: certifi>=2017.4.17 in /root/.pyenv/versions/3.8.12/envs/simplon/lib/python3.8/site-packages (from requests<3,>=2.21.0->tensorboard~=2.6->tensorflow) (2021.10.8)\n",
      "Requirement already satisfied: zipp>=0.5 in /root/.pyenv/versions/3.8.12/envs/simplon/lib/python3.8/site-packages (from importlib-metadata>=4.4->markdown>=2.6.8->tensorboard~=2.6->tensorflow) (3.7.0)\n",
      "Requirement already satisfied: pyasn1<0.5.0,>=0.4.6 in /root/.pyenv/versions/3.8.12/envs/simplon/lib/python3.8/site-packages (from pyasn1-modules>=0.2.1->google-auth<3,>=1.6.3->tensorboard~=2.6->tensorflow) (0.4.8)\n",
      "Requirement already satisfied: oauthlib>=3.0.0 in /root/.pyenv/versions/3.8.12/envs/simplon/lib/python3.8/site-packages (from requests-oauthlib>=0.7.0->google-auth-oauthlib<0.5,>=0.4.1->tensorboard~=2.6->tensorflow) (3.1.1)\n",
      "\n",
      "\u001b[1m[\u001b[0m\u001b[34;49mnotice\u001b[0m\u001b[1;39;49m]\u001b[0m\u001b[39;49m A new release of pip is available: \u001b[0m\u001b[31;49m23.0.1\u001b[0m\u001b[39;49m -> \u001b[0m\u001b[32;49m23.1.2\u001b[0m\n",
      "\u001b[1m[\u001b[0m\u001b[34;49mnotice\u001b[0m\u001b[1;39;49m]\u001b[0m\u001b[39;49m To update, run: \u001b[0m\u001b[32;49mpip install --upgrade pip\u001b[0m\n"
     ]
    }
   ],
   "source": [
    "!pip install tensorflow"
   ]
  },
  {
   "cell_type": "code",
   "execution_count": 3,
   "metadata": {},
   "outputs": [
    {
     "name": "stderr",
     "output_type": "stream",
     "text": [
      "2023-06-06 15:54:21.178309: W tensorflow/stream_executor/platform/default/dso_loader.cc:64] Could not load dynamic library 'libcudart.so.11.0'; dlerror: libcudart.so.11.0: cannot open shared object file: No such file or directory\n",
      "2023-06-06 15:54:21.178495: I tensorflow/stream_executor/cuda/cudart_stub.cc:29] Ignore above cudart dlerror if you do not have a GPU set up on your machine.\n"
     ]
    }
   ],
   "source": [
    "import tensorflow as tf"
   ]
  },
  {
   "cell_type": "code",
   "execution_count": 4,
   "metadata": {},
   "outputs": [
    {
     "name": "stderr",
     "output_type": "stream",
     "text": [
      "2023-06-06 15:55:00.288317: W tensorflow/stream_executor/platform/default/dso_loader.cc:64] Could not load dynamic library 'libcuda.so.1'; dlerror: libcuda.so.1: cannot open shared object file: No such file or directory\n",
      "2023-06-06 15:55:00.288455: W tensorflow/stream_executor/cuda/cuda_driver.cc:269] failed call to cuInit: UNKNOWN ERROR (303)\n",
      "2023-06-06 15:55:00.288730: I tensorflow/stream_executor/cuda/cuda_diagnostics.cc:156] kernel driver does not appear to be running on this host (UTILISA-O4KTAUM): /proc/driver/nvidia/version does not exist\n",
      "2023-06-06 15:55:00.289476: I tensorflow/core/platform/cpu_feature_guard.cc:151] This TensorFlow binary is optimized with oneAPI Deep Neural Network Library (oneDNN) to use the following CPU instructions in performance-critical operations:  AVX2 FMA\n",
      "To enable them in other operations, rebuild TensorFlow with the appropriate compiler flags.\n"
     ]
    },
    {
     "name": "stdout",
     "output_type": "stream",
     "text": [
      "Epoch 1/10\n",
      "32/32 [==============================] - 3s 12ms/step - loss: 2.3437 - accuracy: 0.1040\n",
      "Epoch 2/10\n",
      "32/32 [==============================] - 0s 14ms/step - loss: 2.2952 - accuracy: 0.1210\n",
      "Epoch 3/10\n",
      "32/32 [==============================] - 1s 21ms/step - loss: 2.2799 - accuracy: 0.1320\n",
      "Epoch 4/10\n",
      "32/32 [==============================] - 0s 15ms/step - loss: 2.2661 - accuracy: 0.1490\n",
      "Epoch 5/10\n",
      "32/32 [==============================] - 1s 18ms/step - loss: 2.2493 - accuracy: 0.1630\n",
      "Epoch 6/10\n",
      "32/32 [==============================] - 1s 19ms/step - loss: 2.2400 - accuracy: 0.1650\n",
      "Epoch 7/10\n",
      "32/32 [==============================] - 1s 18ms/step - loss: 2.2095 - accuracy: 0.2050\n",
      "Epoch 8/10\n",
      "32/32 [==============================] - 1s 17ms/step - loss: 2.1921 - accuracy: 0.2070\n",
      "Epoch 9/10\n",
      "32/32 [==============================] - 1s 19ms/step - loss: 2.1665 - accuracy: 0.2360\n",
      "Epoch 10/10\n",
      "32/32 [==============================] - 1s 21ms/step - loss: 2.1416 - accuracy: 0.2280\n",
      "32/32 [==============================] - 2s 13ms/step - loss: 2.1086 - accuracy: 0.2540\n",
      "Loss: 2.108612298965454\n",
      "Accuracy: 0.2540000081062317\n"
     ]
    }
   ],
   "source": [
    "import tensorflow as tf\n",
    "from tensorflow.keras.models import Sequential\n",
    "from tensorflow.keras.layers import Dense\n",
    "\n",
    "# Création d'un modèle séquentiel\n",
    "model = Sequential()\n",
    "\n",
    "# Ajout de couches au modèle\n",
    "model.add(Dense(64, activation='relu', input_dim=100))\n",
    "model.add(Dense(64, activation='relu'))\n",
    "model.add(Dense(10, activation='softmax'))\n",
    "\n",
    "# Compilation du modèle\n",
    "model.compile(loss='categorical_crossentropy',\n",
    "              optimizer='adam',\n",
    "              metrics=['accuracy'])\n",
    "\n",
    "# Génération de données factices pour l'exemple\n",
    "import numpy as np\n",
    "data = np.random.random((1000, 100))\n",
    "labels = np.random.randint(10, size=(1000, 1))\n",
    "\n",
    "# Conversion des labels en catégories\n",
    "one_hot_labels = tf.keras.utils.to_categorical(labels, num_classes=10)\n",
    "\n",
    "# Entraînement du modèle\n",
    "print('model fit...')\n",
    "model.fit(data, one_hot_labels, epochs=10, batch_size=32)\n",
    "print('end model fit')\n",
    "# Évaluation du modèle\n",
    "loss, accuracy = model.evaluate(data, one_hot_labels)\n",
    "\n",
    "print(f'Loss: {loss}')\n",
    "print(f'Accuracy: {accuracy}')\n"
   ]
  }
 ],
 "metadata": {
  "kernelspec": {
   "display_name": "Python 3",
   "language": "python",
   "name": "python3"
  },
  "language_info": {
   "codemirror_mode": {
    "name": "ipython",
    "version": 3
   },
   "file_extension": ".py",
   "mimetype": "text/x-python",
   "name": "python",
   "nbconvert_exporter": "python",
   "pygments_lexer": "ipython3",
   "version": "3.8.12"
  },
  "orig_nbformat": 4
 },
 "nbformat": 4,
 "nbformat_minor": 2
}
